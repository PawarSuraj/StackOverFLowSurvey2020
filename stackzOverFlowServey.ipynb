{
 "cells": [
  {
   "cell_type": "code",
   "execution_count": 1,
   "source": [
    "import pandas as pd\r\n",
    "import matplotlib.pyplot as plt"
   ],
   "outputs": [],
   "metadata": {}
  },
  {
   "cell_type": "code",
   "execution_count": 2,
   "source": [
    "# first download the stackoverflow dataset from the link below\r\n",
    "# https://insights.stackoverflow.com/survey\r\n",
    "# after download paste the csv file into the working directory and youre good to go\r\n",
    "# reading the data into a data frame\r\n",
    "df = pd.read_csv('survey_results_public.csv')\r\n",
    "# df.head()"
   ],
   "outputs": [],
   "metadata": {}
  },
  {
   "cell_type": "code",
   "execution_count": 3,
   "source": [
    "# reading only those colmn which we require to build our model\r\n",
    "df = df[[\"Country\",\"EdLevel\",\"YearsCodePro\",\"Employment\",\"ConvertedComp\"]]\r\n",
    "# renaming the colmn for easy understanding\r\n",
    "df = df.rename({\"ConvertedComp\":\"Salary\"}, axis=1)\r\n",
    "df.head()"
   ],
   "outputs": [
    {
     "output_type": "execute_result",
     "data": {
      "text/plain": [
       "              Country                                          EdLevel  \\\n",
       "0             Germany  Master’s degree (M.A., M.S., M.Eng., MBA, etc.)   \n",
       "1      United Kingdom     Bachelor’s degree (B.A., B.S., B.Eng., etc.)   \n",
       "2  Russian Federation                                              NaN   \n",
       "3             Albania  Master’s degree (M.A., M.S., M.Eng., MBA, etc.)   \n",
       "4       United States     Bachelor’s degree (B.A., B.S., B.Eng., etc.)   \n",
       "\n",
       "  YearsCodePro                                         Employment  Salary  \n",
       "0           27  Independent contractor, freelancer, or self-em...     NaN  \n",
       "1            4                                 Employed full-time     NaN  \n",
       "2          NaN                                                NaN     NaN  \n",
       "3            4                                                NaN     NaN  \n",
       "4            8                                 Employed full-time     NaN  "
      ],
      "text/html": [
       "<div>\n",
       "<style scoped>\n",
       "    .dataframe tbody tr th:only-of-type {\n",
       "        vertical-align: middle;\n",
       "    }\n",
       "\n",
       "    .dataframe tbody tr th {\n",
       "        vertical-align: top;\n",
       "    }\n",
       "\n",
       "    .dataframe thead th {\n",
       "        text-align: right;\n",
       "    }\n",
       "</style>\n",
       "<table border=\"1\" class=\"dataframe\">\n",
       "  <thead>\n",
       "    <tr style=\"text-align: right;\">\n",
       "      <th></th>\n",
       "      <th>Country</th>\n",
       "      <th>EdLevel</th>\n",
       "      <th>YearsCodePro</th>\n",
       "      <th>Employment</th>\n",
       "      <th>Salary</th>\n",
       "    </tr>\n",
       "  </thead>\n",
       "  <tbody>\n",
       "    <tr>\n",
       "      <th>0</th>\n",
       "      <td>Germany</td>\n",
       "      <td>Master’s degree (M.A., M.S., M.Eng., MBA, etc.)</td>\n",
       "      <td>27</td>\n",
       "      <td>Independent contractor, freelancer, or self-em...</td>\n",
       "      <td>NaN</td>\n",
       "    </tr>\n",
       "    <tr>\n",
       "      <th>1</th>\n",
       "      <td>United Kingdom</td>\n",
       "      <td>Bachelor’s degree (B.A., B.S., B.Eng., etc.)</td>\n",
       "      <td>4</td>\n",
       "      <td>Employed full-time</td>\n",
       "      <td>NaN</td>\n",
       "    </tr>\n",
       "    <tr>\n",
       "      <th>2</th>\n",
       "      <td>Russian Federation</td>\n",
       "      <td>NaN</td>\n",
       "      <td>NaN</td>\n",
       "      <td>NaN</td>\n",
       "      <td>NaN</td>\n",
       "    </tr>\n",
       "    <tr>\n",
       "      <th>3</th>\n",
       "      <td>Albania</td>\n",
       "      <td>Master’s degree (M.A., M.S., M.Eng., MBA, etc.)</td>\n",
       "      <td>4</td>\n",
       "      <td>NaN</td>\n",
       "      <td>NaN</td>\n",
       "    </tr>\n",
       "    <tr>\n",
       "      <th>4</th>\n",
       "      <td>United States</td>\n",
       "      <td>Bachelor’s degree (B.A., B.S., B.Eng., etc.)</td>\n",
       "      <td>8</td>\n",
       "      <td>Employed full-time</td>\n",
       "      <td>NaN</td>\n",
       "    </tr>\n",
       "  </tbody>\n",
       "</table>\n",
       "</div>"
      ]
     },
     "metadata": {},
     "execution_count": 3
    }
   ],
   "metadata": {}
  },
  {
   "cell_type": "code",
   "execution_count": 4,
   "source": [
    "# reading only the rows where salary is not missing\r\n",
    "df = df[df['Salary'].notnull()]\r\n",
    "df.head()"
   ],
   "outputs": [
    {
     "output_type": "execute_result",
     "data": {
      "text/plain": [
       "           Country                                            EdLevel  \\\n",
       "7    United States       Bachelor’s degree (B.A., B.S., B.Eng., etc.)   \n",
       "9   United Kingdom    Master’s degree (M.A., M.S., M.Eng., MBA, etc.)   \n",
       "10  United Kingdom       Bachelor’s degree (B.A., B.S., B.Eng., etc.)   \n",
       "11           Spain  Some college/university study without earning ...   \n",
       "12     Netherlands  Secondary school (e.g. American high school, G...   \n",
       "\n",
       "   YearsCodePro          Employment    Salary  \n",
       "7            13  Employed full-time  116000.0  \n",
       "9             4  Employed full-time   32315.0  \n",
       "10            2  Employed full-time   40070.0  \n",
       "11            7  Employed full-time   14268.0  \n",
       "12           20  Employed full-time   38916.0  "
      ],
      "text/html": [
       "<div>\n",
       "<style scoped>\n",
       "    .dataframe tbody tr th:only-of-type {\n",
       "        vertical-align: middle;\n",
       "    }\n",
       "\n",
       "    .dataframe tbody tr th {\n",
       "        vertical-align: top;\n",
       "    }\n",
       "\n",
       "    .dataframe thead th {\n",
       "        text-align: right;\n",
       "    }\n",
       "</style>\n",
       "<table border=\"1\" class=\"dataframe\">\n",
       "  <thead>\n",
       "    <tr style=\"text-align: right;\">\n",
       "      <th></th>\n",
       "      <th>Country</th>\n",
       "      <th>EdLevel</th>\n",
       "      <th>YearsCodePro</th>\n",
       "      <th>Employment</th>\n",
       "      <th>Salary</th>\n",
       "    </tr>\n",
       "  </thead>\n",
       "  <tbody>\n",
       "    <tr>\n",
       "      <th>7</th>\n",
       "      <td>United States</td>\n",
       "      <td>Bachelor’s degree (B.A., B.S., B.Eng., etc.)</td>\n",
       "      <td>13</td>\n",
       "      <td>Employed full-time</td>\n",
       "      <td>116000.0</td>\n",
       "    </tr>\n",
       "    <tr>\n",
       "      <th>9</th>\n",
       "      <td>United Kingdom</td>\n",
       "      <td>Master’s degree (M.A., M.S., M.Eng., MBA, etc.)</td>\n",
       "      <td>4</td>\n",
       "      <td>Employed full-time</td>\n",
       "      <td>32315.0</td>\n",
       "    </tr>\n",
       "    <tr>\n",
       "      <th>10</th>\n",
       "      <td>United Kingdom</td>\n",
       "      <td>Bachelor’s degree (B.A., B.S., B.Eng., etc.)</td>\n",
       "      <td>2</td>\n",
       "      <td>Employed full-time</td>\n",
       "      <td>40070.0</td>\n",
       "    </tr>\n",
       "    <tr>\n",
       "      <th>11</th>\n",
       "      <td>Spain</td>\n",
       "      <td>Some college/university study without earning ...</td>\n",
       "      <td>7</td>\n",
       "      <td>Employed full-time</td>\n",
       "      <td>14268.0</td>\n",
       "    </tr>\n",
       "    <tr>\n",
       "      <th>12</th>\n",
       "      <td>Netherlands</td>\n",
       "      <td>Secondary school (e.g. American high school, G...</td>\n",
       "      <td>20</td>\n",
       "      <td>Employed full-time</td>\n",
       "      <td>38916.0</td>\n",
       "    </tr>\n",
       "  </tbody>\n",
       "</table>\n",
       "</div>"
      ]
     },
     "metadata": {},
     "execution_count": 4
    }
   ],
   "metadata": {}
  },
  {
   "cell_type": "code",
   "execution_count": 5,
   "source": [
    "# checking the missing values for each column\r\n",
    "df.isnull().sum()"
   ],
   "outputs": [
    {
     "output_type": "execute_result",
     "data": {
      "text/plain": [
       "Country           0\n",
       "EdLevel         568\n",
       "YearsCodePro    135\n",
       "Employment       39\n",
       "Salary            0\n",
       "dtype: int64"
      ]
     },
     "metadata": {},
     "execution_count": 5
    }
   ],
   "metadata": {}
  },
  {
   "cell_type": "code",
   "execution_count": 7,
   "source": [
    "# finding the columns with object type\r\n",
    "df.info()"
   ],
   "outputs": [
    {
     "output_type": "stream",
     "name": "stdout",
     "text": [
      "<class 'pandas.core.frame.DataFrame'>\n",
      "Int64Index: 34756 entries, 7 to 64154\n",
      "Data columns (total 5 columns):\n",
      " #   Column        Non-Null Count  Dtype  \n",
      "---  ------        --------------  -----  \n",
      " 0   Country       34756 non-null  object \n",
      " 1   EdLevel       34188 non-null  object \n",
      " 2   YearsCodePro  34621 non-null  object \n",
      " 3   Employment    34717 non-null  object \n",
      " 4   Salary        34756 non-null  float64\n",
      "dtypes: float64(1), object(4)\n",
      "memory usage: 1.6+ MB\n"
     ]
    }
   ],
   "metadata": {}
  },
  {
   "cell_type": "code",
   "execution_count": 8,
   "source": [
    "# dropping all the rows which have null values in any cell\r\n",
    "df = df.dropna()\r\n",
    "df.isnull().sum()"
   ],
   "outputs": [
    {
     "output_type": "execute_result",
     "data": {
      "text/plain": [
       "Country         0\n",
       "EdLevel         0\n",
       "YearsCodePro    0\n",
       "Employment      0\n",
       "Salary          0\n",
       "dtype: int64"
      ]
     },
     "metadata": {},
     "execution_count": 8
    }
   ],
   "metadata": {}
  },
  {
   "cell_type": "code",
   "execution_count": 10,
   "source": [
    "# selecting only those records where employment is full time\r\n",
    "# that means those who are working as full will be selected only\r\n",
    "df = df[df[\"Employment\"] == \"Employed full-time\"]\r\n",
    "# after filtering the full time employees we dont need this colmn\r\n",
    "df = df.drop(\"Employment\", axis=1)"
   ],
   "outputs": [
    {
     "output_type": "stream",
     "name": "stdout",
     "text": [
      "<class 'pandas.core.frame.DataFrame'>\n",
      "Int64Index: 30019 entries, 7 to 64154\n",
      "Data columns (total 4 columns):\n",
      " #   Column        Non-Null Count  Dtype  \n",
      "---  ------        --------------  -----  \n",
      " 0   Country       30019 non-null  object \n",
      " 1   EdLevel       30019 non-null  object \n",
      " 2   YearsCodePro  30019 non-null  object \n",
      " 3   Salary        30019 non-null  float64\n",
      "dtypes: float64(1), object(3)\n",
      "memory usage: 1.1+ MB\n"
     ]
    }
   ],
   "metadata": {}
  },
  {
   "cell_type": "code",
   "execution_count": 11,
   "source": [
    "# this function will filter data according to the number of participents\r\n",
    "# from each country with minimum count as a threshold value\r\n",
    "def selectCountry(countries, mincount):\r\n",
    "    countryMap = {}\r\n",
    "    for i in range(len(countries)):\r\n",
    "        if countries.values[i] >= mincount:\r\n",
    "            countryMap[countries.index[i]] = countries.index[i]\r\n",
    "        else:\r\n",
    "            countryMap[countries.index[i]] = 'others'\r\n",
    "    return countryMap"
   ],
   "outputs": [],
   "metadata": {}
  },
  {
   "cell_type": "code",
   "execution_count": 12,
   "source": [
    "# here all the countries with less then 200 will be categoriesed as others which we will delete later\r\n",
    "countryMap = selectCountry(df.Country.value_counts(),200)\r\n",
    "df['Country'] = df['Country'].map(countryMap)\r\n",
    "df.Country.value_counts()"
   ],
   "outputs": [
    {
     "output_type": "execute_result",
     "data": {
      "text/plain": [
       "United States         7569\n",
       "others                4576\n",
       "India                 2425\n",
       "United Kingdom        2287\n",
       "Germany               1903\n",
       "Canada                1178\n",
       "Brazil                 991\n",
       "France                 972\n",
       "Spain                  670\n",
       "Australia              659\n",
       "Netherlands            654\n",
       "Poland                 566\n",
       "Italy                  560\n",
       "Russian Federation     522\n",
       "Sweden                 514\n",
       "Turkey                 327\n",
       "Israel                 300\n",
       "Pakistan               271\n",
       "Switzerland            266\n",
       "Mexico                 256\n",
       "Ireland                253\n",
       "Norway                 252\n",
       "Ukraine                249\n",
       "Romania                246\n",
       "South Africa           244\n",
       "Czech Republic         229\n",
       "Austria                220\n",
       "Belgium                219\n",
       "Iran                   218\n",
       "Portugal               215\n",
       "Denmark                208\n",
       "Name: Country, dtype: int64"
      ]
     },
     "metadata": {},
     "execution_count": 12
    }
   ],
   "metadata": {}
  },
  {
   "cell_type": "code",
   "execution_count": 13,
   "source": [
    "# now we are plotting a boxplot to understanding outliers in the salary columns\r\n",
    "fig, ax = plt.subplots(1,1, figsize=(12,7))\r\n",
    "df.boxplot('Salary','Country',ax=ax)\r\n",
    "plt.title('Salary Vs Country')\r\n",
    "plt.ylabel('Salary')\r\n",
    "plt.xlabel('Country')\r\n",
    "plt.xticks(rotation=90)\r\n",
    "plt.show()"
   ],
   "outputs": [
    {
     "output_type": "display_data",
     "data": {
      "text/plain": [
       "<Figure size 864x504 with 1 Axes>"
      ],
      "image/png": "[encoded data removed]"
     },
     "metadata": {
      "needs_background": "light"
     }
    }
   ],
   "metadata": {}
  },
  {
   "cell_type": "code",
   "execution_count": 14,
   "source": [
    "# from above graph it is visible that all the outliers are roughly above 0.25 for all country\r\n",
    "# so will remove all the data where salary is above 250000 and minimum salary as 10000 for a \r\n",
    "# working professional\r\n",
    "df = df[df['Salary'] <= 250000]\r\n",
    "df = df[df['Salary'] >= 10000]\r\n",
    "# removing the records with 'other' value which we set in above column\r\n",
    "df = df[df['Country'] != 'Other']"
   ],
   "outputs": [],
   "metadata": {}
  },
  {
   "cell_type": "code",
   "execution_count": 15,
   "source": [
    "# this boxplot shows us the data with threshold value as 250000\r\n",
    "fig, ax = plt.subplots(1,1, figsize=(12,7))\r\n",
    "df.boxplot('Salary','Country',ax=ax)\r\n",
    "plt.title('Salary Vs Country')\r\n",
    "plt.ylabel('Salary')\r\n",
    "plt.xlabel('Country')\r\n",
    "plt.xticks(rotation=90)\r\n",
    "plt.show()"
   ],
   "outputs": [
    {
     "output_type": "display_data",
     "data": {
      "text/plain": [
       "<Figure size 864x504 with 1 Axes>"
      ],
      "image/png": "[encoded data removed]"
     },
     "metadata": {
      "needs_background": "light"
     }
    }
   ],
   "metadata": {}
  },
  {
   "cell_type": "code",
   "execution_count": 16,
   "source": [
    "# printing unique values present in the YearsCodePro column\r\n",
    "df.YearsCodePro.unique()"
   ],
   "outputs": [
    {
     "output_type": "execute_result",
     "data": {
      "text/plain": [
       "array(['13', '4', '2', '7', '20', '1', '3', '10', '14', '12', '29', '6',\n",
       "       '28', '8', '23', '15', '25', '5', '9', '11', 'Less than 1 year',\n",
       "       '21', '16', '18', '32', '19', '22', '38', '30', '26', '17', '27',\n",
       "       '24', '34', '35', '33', '36', '40', '39', 'More than 50 years',\n",
       "       '31', '37', '41', '45', '42', '44', '43', '50', '49', '47'],\n",
       "      dtype=object)"
      ]
     },
     "metadata": {},
     "execution_count": 16
    }
   ],
   "metadata": {}
  },
  {
   "cell_type": "code",
   "execution_count": 17,
   "source": [
    "# we are going to filter all the text values with float value\r\n",
    "def selectCodingYears(value):\r\n",
    "    if value == 'More than 50 years':\r\n",
    "        return 50\r\n",
    "    if value == 'Less than 1 year':\r\n",
    "        return 0.5\r\n",
    "    return float(value)\r\n",
    "df['YearsCodePro'] = df['YearsCodePro'].apply(selectCodingYears)"
   ],
   "outputs": [],
   "metadata": {}
  },
  {
   "cell_type": "code",
   "execution_count": 18,
   "source": [
    "# similarly we are going to find unique values in EdLevel(Education) colmn as well\r\n",
    "df['EdLevel'].unique()"
   ],
   "outputs": [
    {
     "output_type": "execute_result",
     "data": {
      "text/plain": [
       "array(['Bachelor’s degree (B.A., B.S., B.Eng., etc.)',\n",
       "       'Master’s degree (M.A., M.S., M.Eng., MBA, etc.)',\n",
       "       'Some college/university study without earning a degree',\n",
       "       'Secondary school (e.g. American high school, German Realschule or Gymnasium, etc.)',\n",
       "       'Associate degree (A.A., A.S., etc.)',\n",
       "       'Professional degree (JD, MD, etc.)',\n",
       "       'Other doctoral degree (Ph.D., Ed.D., etc.)',\n",
       "       'I never completed any formal education',\n",
       "       'Primary/elementary school'], dtype=object)"
      ]
     },
     "metadata": {},
     "execution_count": 18
    }
   ],
   "metadata": {}
  },
  {
   "cell_type": "code",
   "execution_count": 19,
   "source": [
    "# for ease we will replace all the education data into\r\n",
    "# Bachlors Masters and Post Graduation degrees only\r\n",
    "def selectEducation(degree):\r\n",
    "    if degree == 'Bachelor’s degree (B.A., B.S., B.Eng., etc.)':\r\n",
    "        return 'Bachelor’s Degress'\r\n",
    "    if degree == 'Master’s degree (M.A., M.S., M.Eng., MBA, etc.)':\r\n",
    "        return 'Master’s Degree'\r\n",
    "    if degree == 'Professional degree (JD, MD, etc.)' or degree == 'Other doctoral degree (Ph.D., Ed.D., etc.)':\r\n",
    "        return 'Post Graduation'\r\n",
    "    return 'Less than a Bachelors'\r\n",
    "\r\n",
    "df['EdLevel'] = df['EdLevel'].apply(selectEducation)"
   ],
   "outputs": [],
   "metadata": {}
  },
  {
   "cell_type": "code",
   "execution_count": 20,
   "source": [
    "df['EdLevel'].unique()"
   ],
   "outputs": [
    {
     "output_type": "execute_result",
     "data": {
      "text/plain": [
       "array(['Bachelor’s Degress', 'Master’s Degree', 'Less than a Bachelors',\n",
       "       'Post Graduation'], dtype=object)"
      ]
     },
     "metadata": {},
     "execution_count": 20
    }
   ],
   "metadata": {}
  },
  {
   "cell_type": "code",
   "execution_count": 21,
   "source": [
    "# now only Country and EdLevel are non numerical values\r\n",
    "df.head(50)"
   ],
   "outputs": [
    {
     "output_type": "execute_result",
     "data": {
      "text/plain": [
       "            Country                EdLevel  YearsCodePro    Salary\n",
       "7     United States     Bachelor’s Degress          13.0  116000.0\n",
       "9    United Kingdom        Master’s Degree           4.0   32315.0\n",
       "10   United Kingdom     Bachelor’s Degress           2.0   40070.0\n",
       "11            Spain  Less than a Bachelors           7.0   14268.0\n",
       "12      Netherlands  Less than a Bachelors          20.0   38916.0\n",
       "13    United States  Less than a Bachelors           1.0   66000.0\n",
       "16    United States     Bachelor’s Degress           3.0   79000.0\n",
       "18    United States     Bachelor’s Degress           3.0   83400.0\n",
       "23          Germany        Post Graduation          20.0   91883.0\n",
       "25           Canada     Bachelor’s Degress          10.0   71093.0\n",
       "29   United Kingdom     Bachelor’s Degress           2.0   38778.0\n",
       "31           Canada     Bachelor’s Degress          10.0   31764.0\n",
       "32          Belgium     Bachelor’s Degress          14.0   63564.0\n",
       "35   United Kingdom  Less than a Bachelors           3.0   77556.0\n",
       "37            Italy     Bachelor’s Degress          12.0   97288.0\n",
       "40    United States        Master’s Degree          20.0  106000.0\n",
       "41    United States     Bachelor’s Degress          10.0  130000.0\n",
       "42    United States        Master’s Degree          29.0  135000.0\n",
       "43           Brazil        Master’s Degree           6.0   55893.0\n",
       "44           France        Master’s Degree           2.0   36753.0\n",
       "45           France        Master’s Degree           4.0   37834.0\n",
       "46   United Kingdom        Post Graduation          28.0   74970.0\n",
       "47    United States     Bachelor’s Degress           8.0  125000.0\n",
       "48    United States     Bachelor’s Degress           4.0   52000.0\n",
       "50           Canada  Less than a Bachelors           7.0  103615.0\n",
       "51   United Kingdom     Bachelor’s Degress           6.0   90482.0\n",
       "53    United States     Bachelor’s Degress          23.0  160000.0\n",
       "58           Brazil     Bachelor’s Degress          15.0   16488.0\n",
       "63   United Kingdom  Less than a Bachelors          13.0   94359.0\n",
       "66    United States        Post Graduation          15.0  250000.0\n",
       "79    United States     Bachelor’s Degress           7.0   94500.0\n",
       "81    United States  Less than a Bachelors          25.0  117000.0\n",
       "88    United States     Bachelor’s Degress           2.0  130000.0\n",
       "89           others  Less than a Bachelors           2.0   61476.0\n",
       "90           France     Bachelor’s Degress          10.0   57292.0\n",
       "91           others        Post Graduation          15.0   21620.0\n",
       "92           Canada  Less than a Bachelors           2.0   37816.0\n",
       "93           Canada  Less than a Bachelors          25.0   71850.0\n",
       "95           Canada     Bachelor’s Degress           4.0   75631.0\n",
       "96   Czech Republic        Master’s Degree           5.0   41568.0\n",
       "97           Canada     Bachelor’s Degress           9.0   79413.0\n",
       "98    United States  Less than a Bachelors          11.0   93000.0\n",
       "103   United States     Bachelor’s Degress           0.5   40000.0\n",
       "104         Germany        Post Graduation           3.0   46044.0\n",
       "105   United States     Bachelor’s Degress           5.0  148000.0\n",
       "108   United States        Master’s Degree          21.0  130000.0\n",
       "110   United States        Master’s Degree           3.0   65000.0\n",
       "113   United States     Bachelor’s Degress           2.0   78800.0\n",
       "115  United Kingdom        Master’s Degree           8.0  116333.0\n",
       "117   United States     Bachelor’s Degress          16.0  145000.0"
      ],
      "text/html": [
       "<div>\n",
       "<style scoped>\n",
       "    .dataframe tbody tr th:only-of-type {\n",
       "        vertical-align: middle;\n",
       "    }\n",
       "\n",
       "    .dataframe tbody tr th {\n",
       "        vertical-align: top;\n",
       "    }\n",
       "\n",
       "    .dataframe thead th {\n",
       "        text-align: right;\n",
       "    }\n",
       "</style>\n",
       "<table border=\"1\" class=\"dataframe\">\n",
       "  <thead>\n",
       "    <tr style=\"text-align: right;\">\n",
       "      <th></th>\n",
       "      <th>Country</th>\n",
       "      <th>EdLevel</th>\n",
       "      <th>YearsCodePro</th>\n",
       "      <th>Salary</th>\n",
       "    </tr>\n",
       "  </thead>\n",
       "  <tbody>\n",
       "    <tr>\n",
       "      <th>7</th>\n",
       "      <td>United States</td>\n",
       "      <td>Bachelor’s Degress</td>\n",
       "      <td>13.0</td>\n",
       "      <td>116000.0</td>\n",
       "    </tr>\n",
       "    <tr>\n",
       "      <th>9</th>\n",
       "      <td>United Kingdom</td>\n",
       "      <td>Master’s Degree</td>\n",
       "      <td>4.0</td>\n",
       "      <td>32315.0</td>\n",
       "    </tr>\n",
       "    <tr>\n",
       "      <th>10</th>\n",
       "      <td>United Kingdom</td>\n",
       "      <td>Bachelor’s Degress</td>\n",
       "      <td>2.0</td>\n",
       "      <td>40070.0</td>\n",
       "    </tr>\n",
       "    <tr>\n",
       "      <th>11</th>\n",
       "      <td>Spain</td>\n",
       "      <td>Less than a Bachelors</td>\n",
       "      <td>7.0</td>\n",
       "      <td>14268.0</td>\n",
       "    </tr>\n",
       "    <tr>\n",
       "      <th>12</th>\n",
       "      <td>Netherlands</td>\n",
       "      <td>Less than a Bachelors</td>\n",
       "      <td>20.0</td>\n",
       "      <td>38916.0</td>\n",
       "    </tr>\n",
       "    <tr>\n",
       "      <th>13</th>\n",
       "      <td>United States</td>\n",
       "      <td>Less than a Bachelors</td>\n",
       "      <td>1.0</td>\n",
       "      <td>66000.0</td>\n",
       "    </tr>\n",
       "    <tr>\n",
       "      <th>16</th>\n",
       "      <td>United States</td>\n",
       "      <td>Bachelor’s Degress</td>\n",
       "      <td>3.0</td>\n",
       "      <td>79000.0</td>\n",
       "    </tr>\n",
       "    <tr>\n",
       "      <th>18</th>\n",
       "      <td>United States</td>\n",
       "      <td>Bachelor’s Degress</td>\n",
       "      <td>3.0</td>\n",
       "      <td>83400.0</td>\n",
       "    </tr>\n",
       "    <tr>\n",
       "      <th>23</th>\n",
       "      <td>Germany</td>\n",
       "      <td>Post Graduation</td>\n",
       "      <td>20.0</td>\n",
       "      <td>91883.0</td>\n",
       "    </tr>\n",
       "    <tr>\n",
       "      <th>25</th>\n",
       "      <td>Canada</td>\n",
       "      <td>Bachelor’s Degress</td>\n",
       "      <td>10.0</td>\n",
       "      <td>71093.0</td>\n",
       "    </tr>\n",
       "    <tr>\n",
       "      <th>29</th>\n",
       "      <td>United Kingdom</td>\n",
       "      <td>Bachelor’s Degress</td>\n",
       "      <td>2.0</td>\n",
       "      <td>38778.0</td>\n",
       "    </tr>\n",
       "    <tr>\n",
       "      <th>31</th>\n",
       "      <td>Canada</td>\n",
       "      <td>Bachelor’s Degress</td>\n",
       "      <td>10.0</td>\n",
       "      <td>31764.0</td>\n",
       "    </tr>\n",
       "    <tr>\n",
       "      <th>32</th>\n",
       "      <td>Belgium</td>\n",
       "      <td>Bachelor’s Degress</td>\n",
       "      <td>14.0</td>\n",
       "      <td>63564.0</td>\n",
       "    </tr>\n",
       "    <tr>\n",
       "      <th>35</th>\n",
       "      <td>United Kingdom</td>\n",
       "      <td>Less than a Bachelors</td>\n",
       "      <td>3.0</td>\n",
       "      <td>77556.0</td>\n",
       "    </tr>\n",
       "    <tr>\n",
       "      <th>37</th>\n",
       "      <td>Italy</td>\n",
       "      <td>Bachelor’s Degress</td>\n",
       "      <td>12.0</td>\n",
       "      <td>97288.0</td>\n",
       "    </tr>\n",
       "    <tr>\n",
       "      <th>40</th>\n",
       "      <td>United States</td>\n",
       "      <td>Master’s Degree</td>\n",
       "      <td>20.0</td>\n",
       "      <td>106000.0</td>\n",
       "    </tr>\n",
       "    <tr>\n",
       "      <th>41</th>\n",
       "      <td>United States</td>\n",
       "      <td>Bachelor’s Degress</td>\n",
       "      <td>10.0</td>\n",
       "      <td>130000.0</td>\n",
       "    </tr>\n",
       "    <tr>\n",
       "      <th>42</th>\n",
       "      <td>United States</td>\n",
       "      <td>Master’s Degree</td>\n",
       "      <td>29.0</td>\n",
       "      <td>135000.0</td>\n",
       "    </tr>\n",
       "    <tr>\n",
       "      <th>43</th>\n",
       "      <td>Brazil</td>\n",
       "      <td>Master’s Degree</td>\n",
       "      <td>6.0</td>\n",
       "      <td>55893.0</td>\n",
       "    </tr>\n",
       "    <tr>\n",
       "      <th>44</th>\n",
       "      <td>France</td>\n",
       "      <td>Master’s Degree</td>\n",
       "      <td>2.0</td>\n",
       "      <td>36753.0</td>\n",
       "    </tr>\n",
       "    <tr>\n",
       "      <th>45</th>\n",
       "      <td>France</td>\n",
       "      <td>Master’s Degree</td>\n",
       "      <td>4.0</td>\n",
       "      <td>37834.0</td>\n",
       "    </tr>\n",
       "    <tr>\n",
       "      <th>46</th>\n",
       "      <td>United Kingdom</td>\n",
       "      <td>Post Graduation</td>\n",
       "      <td>28.0</td>\n",
       "      <td>74970.0</td>\n",
       "    </tr>\n",
       "    <tr>\n",
       "      <th>47</th>\n",
       "      <td>United States</td>\n",
       "      <td>Bachelor’s Degress</td>\n",
       "      <td>8.0</td>\n",
       "      <td>125000.0</td>\n",
       "    </tr>\n",
       "    <tr>\n",
       "      <th>48</th>\n",
       "      <td>United States</td>\n",
       "      <td>Bachelor’s Degress</td>\n",
       "      <td>4.0</td>\n",
       "      <td>52000.0</td>\n",
       "    </tr>\n",
       "    <tr>\n",
       "      <th>50</th>\n",
       "      <td>Canada</td>\n",
       "      <td>Less than a Bachelors</td>\n",
       "      <td>7.0</td>\n",
       "      <td>103615.0</td>\n",
       "    </tr>\n",
       "    <tr>\n",
       "      <th>51</th>\n",
       "      <td>United Kingdom</td>\n",
       "      <td>Bachelor’s Degress</td>\n",
       "      <td>6.0</td>\n",
       "      <td>90482.0</td>\n",
       "    </tr>\n",
       "    <tr>\n",
       "      <th>53</th>\n",
       "      <td>United States</td>\n",
       "      <td>Bachelor’s Degress</td>\n",
       "      <td>23.0</td>\n",
       "      <td>160000.0</td>\n",
       "    </tr>\n",
       "    <tr>\n",
       "      <th>58</th>\n",
       "      <td>Brazil</td>\n",
       "      <td>Bachelor’s Degress</td>\n",
       "      <td>15.0</td>\n",
       "      <td>16488.0</td>\n",
       "    </tr>\n",
       "    <tr>\n",
       "      <th>63</th>\n",
       "      <td>United Kingdom</td>\n",
       "      <td>Less than a Bachelors</td>\n",
       "      <td>13.0</td>\n",
       "      <td>94359.0</td>\n",
       "    </tr>\n",
       "    <tr>\n",
       "      <th>66</th>\n",
       "      <td>United States</td>\n",
       "      <td>Post Graduation</td>\n",
       "      <td>15.0</td>\n",
       "      <td>250000.0</td>\n",
       "    </tr>\n",
       "    <tr>\n",
       "      <th>79</th>\n",
       "      <td>United States</td>\n",
       "      <td>Bachelor’s Degress</td>\n",
       "      <td>7.0</td>\n",
       "      <td>94500.0</td>\n",
       "    </tr>\n",
       "    <tr>\n",
       "      <th>81</th>\n",
       "      <td>United States</td>\n",
       "      <td>Less than a Bachelors</td>\n",
       "      <td>25.0</td>\n",
       "      <td>117000.0</td>\n",
       "    </tr>\n",
       "    <tr>\n",
       "      <th>88</th>\n",
       "      <td>United States</td>\n",
       "      <td>Bachelor’s Degress</td>\n",
       "      <td>2.0</td>\n",
       "      <td>130000.0</td>\n",
       "    </tr>\n",
       "    <tr>\n",
       "      <th>89</th>\n",
       "      <td>others</td>\n",
       "      <td>Less than a Bachelors</td>\n",
       "      <td>2.0</td>\n",
       "      <td>61476.0</td>\n",
       "    </tr>\n",
       "    <tr>\n",
       "      <th>90</th>\n",
       "      <td>France</td>\n",
       "      <td>Bachelor’s Degress</td>\n",
       "      <td>10.0</td>\n",
       "      <td>57292.0</td>\n",
       "    </tr>\n",
       "    <tr>\n",
       "      <th>91</th>\n",
       "      <td>others</td>\n",
       "      <td>Post Graduation</td>\n",
       "      <td>15.0</td>\n",
       "      <td>21620.0</td>\n",
       "    </tr>\n",
       "    <tr>\n",
       "      <th>92</th>\n",
       "      <td>Canada</td>\n",
       "      <td>Less than a Bachelors</td>\n",
       "      <td>2.0</td>\n",
       "      <td>37816.0</td>\n",
       "    </tr>\n",
       "    <tr>\n",
       "      <th>93</th>\n",
       "      <td>Canada</td>\n",
       "      <td>Less than a Bachelors</td>\n",
       "      <td>25.0</td>\n",
       "      <td>71850.0</td>\n",
       "    </tr>\n",
       "    <tr>\n",
       "      <th>95</th>\n",
       "      <td>Canada</td>\n",
       "      <td>Bachelor’s Degress</td>\n",
       "      <td>4.0</td>\n",
       "      <td>75631.0</td>\n",
       "    </tr>\n",
       "    <tr>\n",
       "      <th>96</th>\n",
       "      <td>Czech Republic</td>\n",
       "      <td>Master’s Degree</td>\n",
       "      <td>5.0</td>\n",
       "      <td>41568.0</td>\n",
       "    </tr>\n",
       "    <tr>\n",
       "      <th>97</th>\n",
       "      <td>Canada</td>\n",
       "      <td>Bachelor’s Degress</td>\n",
       "      <td>9.0</td>\n",
       "      <td>79413.0</td>\n",
       "    </tr>\n",
       "    <tr>\n",
       "      <th>98</th>\n",
       "      <td>United States</td>\n",
       "      <td>Less than a Bachelors</td>\n",
       "      <td>11.0</td>\n",
       "      <td>93000.0</td>\n",
       "    </tr>\n",
       "    <tr>\n",
       "      <th>103</th>\n",
       "      <td>United States</td>\n",
       "      <td>Bachelor’s Degress</td>\n",
       "      <td>0.5</td>\n",
       "      <td>40000.0</td>\n",
       "    </tr>\n",
       "    <tr>\n",
       "      <th>104</th>\n",
       "      <td>Germany</td>\n",
       "      <td>Post Graduation</td>\n",
       "      <td>3.0</td>\n",
       "      <td>46044.0</td>\n",
       "    </tr>\n",
       "    <tr>\n",
       "      <th>105</th>\n",
       "      <td>United States</td>\n",
       "      <td>Bachelor’s Degress</td>\n",
       "      <td>5.0</td>\n",
       "      <td>148000.0</td>\n",
       "    </tr>\n",
       "    <tr>\n",
       "      <th>108</th>\n",
       "      <td>United States</td>\n",
       "      <td>Master’s Degree</td>\n",
       "      <td>21.0</td>\n",
       "      <td>130000.0</td>\n",
       "    </tr>\n",
       "    <tr>\n",
       "      <th>110</th>\n",
       "      <td>United States</td>\n",
       "      <td>Master’s Degree</td>\n",
       "      <td>3.0</td>\n",
       "      <td>65000.0</td>\n",
       "    </tr>\n",
       "    <tr>\n",
       "      <th>113</th>\n",
       "      <td>United States</td>\n",
       "      <td>Bachelor’s Degress</td>\n",
       "      <td>2.0</td>\n",
       "      <td>78800.0</td>\n",
       "    </tr>\n",
       "    <tr>\n",
       "      <th>115</th>\n",
       "      <td>United Kingdom</td>\n",
       "      <td>Master’s Degree</td>\n",
       "      <td>8.0</td>\n",
       "      <td>116333.0</td>\n",
       "    </tr>\n",
       "    <tr>\n",
       "      <th>117</th>\n",
       "      <td>United States</td>\n",
       "      <td>Bachelor’s Degress</td>\n",
       "      <td>16.0</td>\n",
       "      <td>145000.0</td>\n",
       "    </tr>\n",
       "  </tbody>\n",
       "</table>\n",
       "</div>"
      ]
     },
     "metadata": {},
     "execution_count": 21
    }
   ],
   "metadata": {}
  },
  {
   "cell_type": "code",
   "execution_count": 22,
   "source": [
    "# Now we'll be performing the label encoding on the \r\n",
    "# EdLevel and Country columns\r\n",
    "from sklearn.preprocessing import LabelEncoder\r\n",
    "educationEncoder = LabelEncoder()\r\n",
    "# if fit_transform() doesnt work properly try using fit() and transform() seperately\r\n",
    "df['EdLevel'] = educationEncoder.fit_transform(df['EdLevel'])\r\n",
    "df['EdLevel'].unique()"
   ],
   "outputs": [
    {
     "output_type": "execute_result",
     "data": {
      "text/plain": [
       "array([0, 2, 1, 3])"
      ]
     },
     "metadata": {},
     "execution_count": 22
    }
   ],
   "metadata": {}
  },
  {
   "cell_type": "code",
   "execution_count": 23,
   "source": [
    "countryEncoder = LabelEncoder()\r\n",
    "# Importent Step\r\n",
    "# if fit_transform() doesnt work properly try using fit() and transform() seperately\r\n",
    "Fit = countryEncoder.fit(df['Country'])\r\n",
    "df['Country'] = Fit.transform(df['Country'])\r\n",
    "print(list(df['Country'].unique()))"
   ],
   "outputs": [
    {
     "output_type": "stream",
     "name": "stdout",
     "text": [
      "[29, 28, 23, 15, 8, 4, 2, 13, 3, 7, 30, 5, 25, 20, 19, 9, 14, 12, 24, 1, 26, 18, 0, 10, 11, 16, 17, 27, 6, 21, 22]\n"
     ]
    }
   ],
   "metadata": {}
  },
  {
   "cell_type": "code",
   "execution_count": 25,
   "source": [
    "# now we will split the data into input data and output data\r\n",
    "# 'x' will contain all the input/independent variables i.e Country, EdLevel and YearsCodePro\r\n",
    "# 'y' will contain the output/dependent variable i.e salary column\r\n",
    "x = df.drop('Salary',axis=1)\r\n",
    "y = df[\"Salary\"]"
   ],
   "outputs": [],
   "metadata": {}
  },
  {
   "cell_type": "code",
   "execution_count": 26,
   "source": [
    "x.head()"
   ],
   "outputs": [
    {
     "output_type": "execute_result",
     "data": {
      "text/plain": [
       "     Country  EdLevel  YearsCodePro\n",
       "7         29        0          13.0\n",
       "9         28        2           4.0\n",
       "10        28        0           2.0\n",
       "11        23        1           7.0\n",
       "12        15        1          20.0\n",
       "13        29        1           1.0\n",
       "16        29        0           3.0\n",
       "18        29        0           3.0\n",
       "23         8        3          20.0\n",
       "25         4        0          10.0\n",
       "29        28        0           2.0\n",
       "31         4        0          10.0\n",
       "32         2        0          14.0\n",
       "35        28        1           3.0\n",
       "37        13        0          12.0\n",
       "40        29        2          20.0\n",
       "41        29        0          10.0\n",
       "42        29        2          29.0\n",
       "43         3        2           6.0\n",
       "44         7        2           2.0\n",
       "45         7        2           4.0\n",
       "46        28        3          28.0\n",
       "47        29        0           8.0\n",
       "48        29        0           4.0\n",
       "50         4        1           7.0\n",
       "51        28        0           6.0\n",
       "53        29        0          23.0\n",
       "58         3        0          15.0\n",
       "63        28        1          13.0\n",
       "66        29        3          15.0\n",
       "79        29        0           7.0\n",
       "81        29        1          25.0\n",
       "88        29        0           2.0\n",
       "89        30        1           2.0\n",
       "90         7        0          10.0\n",
       "91        30        3          15.0\n",
       "92         4        1           2.0\n",
       "93         4        1          25.0\n",
       "95         4        0           4.0\n",
       "96         5        2           5.0\n",
       "97         4        0           9.0\n",
       "98        29        1          11.0\n",
       "103       29        0           0.5\n",
       "104        8        3           3.0\n",
       "105       29        0           5.0\n",
       "108       29        2          21.0\n",
       "110       29        2           3.0\n",
       "113       29        0           2.0\n",
       "115       28        2           8.0\n",
       "117       29        0          16.0"
      ],
      "text/html": [
       "<div>\n",
       "<style scoped>\n",
       "    .dataframe tbody tr th:only-of-type {\n",
       "        vertical-align: middle;\n",
       "    }\n",
       "\n",
       "    .dataframe tbody tr th {\n",
       "        vertical-align: top;\n",
       "    }\n",
       "\n",
       "    .dataframe thead th {\n",
       "        text-align: right;\n",
       "    }\n",
       "</style>\n",
       "<table border=\"1\" class=\"dataframe\">\n",
       "  <thead>\n",
       "    <tr style=\"text-align: right;\">\n",
       "      <th></th>\n",
       "      <th>Country</th>\n",
       "      <th>EdLevel</th>\n",
       "      <th>YearsCodePro</th>\n",
       "    </tr>\n",
       "  </thead>\n",
       "  <tbody>\n",
       "    <tr>\n",
       "      <th>7</th>\n",
       "      <td>29</td>\n",
       "      <td>0</td>\n",
       "      <td>13.0</td>\n",
       "    </tr>\n",
       "    <tr>\n",
       "      <th>9</th>\n",
       "      <td>28</td>\n",
       "      <td>2</td>\n",
       "      <td>4.0</td>\n",
       "    </tr>\n",
       "    <tr>\n",
       "      <th>10</th>\n",
       "      <td>28</td>\n",
       "      <td>0</td>\n",
       "      <td>2.0</td>\n",
       "    </tr>\n",
       "    <tr>\n",
       "      <th>11</th>\n",
       "      <td>23</td>\n",
       "      <td>1</td>\n",
       "      <td>7.0</td>\n",
       "    </tr>\n",
       "    <tr>\n",
       "      <th>12</th>\n",
       "      <td>15</td>\n",
       "      <td>1</td>\n",
       "      <td>20.0</td>\n",
       "    </tr>\n",
       "    <tr>\n",
       "      <th>13</th>\n",
       "      <td>29</td>\n",
       "      <td>1</td>\n",
       "      <td>1.0</td>\n",
       "    </tr>\n",
       "    <tr>\n",
       "      <th>16</th>\n",
       "      <td>29</td>\n",
       "      <td>0</td>\n",
       "      <td>3.0</td>\n",
       "    </tr>\n",
       "    <tr>\n",
       "      <th>18</th>\n",
       "      <td>29</td>\n",
       "      <td>0</td>\n",
       "      <td>3.0</td>\n",
       "    </tr>\n",
       "    <tr>\n",
       "      <th>23</th>\n",
       "      <td>8</td>\n",
       "      <td>3</td>\n",
       "      <td>20.0</td>\n",
       "    </tr>\n",
       "    <tr>\n",
       "      <th>25</th>\n",
       "      <td>4</td>\n",
       "      <td>0</td>\n",
       "      <td>10.0</td>\n",
       "    </tr>\n",
       "    <tr>\n",
       "      <th>29</th>\n",
       "      <td>28</td>\n",
       "      <td>0</td>\n",
       "      <td>2.0</td>\n",
       "    </tr>\n",
       "    <tr>\n",
       "      <th>31</th>\n",
       "      <td>4</td>\n",
       "      <td>0</td>\n",
       "      <td>10.0</td>\n",
       "    </tr>\n",
       "    <tr>\n",
       "      <th>32</th>\n",
       "      <td>2</td>\n",
       "      <td>0</td>\n",
       "      <td>14.0</td>\n",
       "    </tr>\n",
       "    <tr>\n",
       "      <th>35</th>\n",
       "      <td>28</td>\n",
       "      <td>1</td>\n",
       "      <td>3.0</td>\n",
       "    </tr>\n",
       "    <tr>\n",
       "      <th>37</th>\n",
       "      <td>13</td>\n",
       "      <td>0</td>\n",
       "      <td>12.0</td>\n",
       "    </tr>\n",
       "    <tr>\n",
       "      <th>40</th>\n",
       "      <td>29</td>\n",
       "      <td>2</td>\n",
       "      <td>20.0</td>\n",
       "    </tr>\n",
       "    <tr>\n",
       "      <th>41</th>\n",
       "      <td>29</td>\n",
       "      <td>0</td>\n",
       "      <td>10.0</td>\n",
       "    </tr>\n",
       "    <tr>\n",
       "      <th>42</th>\n",
       "      <td>29</td>\n",
       "      <td>2</td>\n",
       "      <td>29.0</td>\n",
       "    </tr>\n",
       "    <tr>\n",
       "      <th>43</th>\n",
       "      <td>3</td>\n",
       "      <td>2</td>\n",
       "      <td>6.0</td>\n",
       "    </tr>\n",
       "    <tr>\n",
       "      <th>44</th>\n",
       "      <td>7</td>\n",
       "      <td>2</td>\n",
       "      <td>2.0</td>\n",
       "    </tr>\n",
       "    <tr>\n",
       "      <th>45</th>\n",
       "      <td>7</td>\n",
       "      <td>2</td>\n",
       "      <td>4.0</td>\n",
       "    </tr>\n",
       "    <tr>\n",
       "      <th>46</th>\n",
       "      <td>28</td>\n",
       "      <td>3</td>\n",
       "      <td>28.0</td>\n",
       "    </tr>\n",
       "    <tr>\n",
       "      <th>47</th>\n",
       "      <td>29</td>\n",
       "      <td>0</td>\n",
       "      <td>8.0</td>\n",
       "    </tr>\n",
       "    <tr>\n",
       "      <th>48</th>\n",
       "      <td>29</td>\n",
       "      <td>0</td>\n",
       "      <td>4.0</td>\n",
       "    </tr>\n",
       "    <tr>\n",
       "      <th>50</th>\n",
       "      <td>4</td>\n",
       "      <td>1</td>\n",
       "      <td>7.0</td>\n",
       "    </tr>\n",
       "    <tr>\n",
       "      <th>51</th>\n",
       "      <td>28</td>\n",
       "      <td>0</td>\n",
       "      <td>6.0</td>\n",
       "    </tr>\n",
       "    <tr>\n",
       "      <th>53</th>\n",
       "      <td>29</td>\n",
       "      <td>0</td>\n",
       "      <td>23.0</td>\n",
       "    </tr>\n",
       "    <tr>\n",
       "      <th>58</th>\n",
       "      <td>3</td>\n",
       "      <td>0</td>\n",
       "      <td>15.0</td>\n",
       "    </tr>\n",
       "    <tr>\n",
       "      <th>63</th>\n",
       "      <td>28</td>\n",
       "      <td>1</td>\n",
       "      <td>13.0</td>\n",
       "    </tr>\n",
       "    <tr>\n",
       "      <th>66</th>\n",
       "      <td>29</td>\n",
       "      <td>3</td>\n",
       "      <td>15.0</td>\n",
       "    </tr>\n",
       "    <tr>\n",
       "      <th>79</th>\n",
       "      <td>29</td>\n",
       "      <td>0</td>\n",
       "      <td>7.0</td>\n",
       "    </tr>\n",
       "    <tr>\n",
       "      <th>81</th>\n",
       "      <td>29</td>\n",
       "      <td>1</td>\n",
       "      <td>25.0</td>\n",
       "    </tr>\n",
       "    <tr>\n",
       "      <th>88</th>\n",
       "      <td>29</td>\n",
       "      <td>0</td>\n",
       "      <td>2.0</td>\n",
       "    </tr>\n",
       "    <tr>\n",
       "      <th>89</th>\n",
       "      <td>30</td>\n",
       "      <td>1</td>\n",
       "      <td>2.0</td>\n",
       "    </tr>\n",
       "    <tr>\n",
       "      <th>90</th>\n",
       "      <td>7</td>\n",
       "      <td>0</td>\n",
       "      <td>10.0</td>\n",
       "    </tr>\n",
       "    <tr>\n",
       "      <th>91</th>\n",
       "      <td>30</td>\n",
       "      <td>3</td>\n",
       "      <td>15.0</td>\n",
       "    </tr>\n",
       "    <tr>\n",
       "      <th>92</th>\n",
       "      <td>4</td>\n",
       "      <td>1</td>\n",
       "      <td>2.0</td>\n",
       "    </tr>\n",
       "    <tr>\n",
       "      <th>93</th>\n",
       "      <td>4</td>\n",
       "      <td>1</td>\n",
       "      <td>25.0</td>\n",
       "    </tr>\n",
       "    <tr>\n",
       "      <th>95</th>\n",
       "      <td>4</td>\n",
       "      <td>0</td>\n",
       "      <td>4.0</td>\n",
       "    </tr>\n",
       "    <tr>\n",
       "      <th>96</th>\n",
       "      <td>5</td>\n",
       "      <td>2</td>\n",
       "      <td>5.0</td>\n",
       "    </tr>\n",
       "    <tr>\n",
       "      <th>97</th>\n",
       "      <td>4</td>\n",
       "      <td>0</td>\n",
       "      <td>9.0</td>\n",
       "    </tr>\n",
       "    <tr>\n",
       "      <th>98</th>\n",
       "      <td>29</td>\n",
       "      <td>1</td>\n",
       "      <td>11.0</td>\n",
       "    </tr>\n",
       "    <tr>\n",
       "      <th>103</th>\n",
       "      <td>29</td>\n",
       "      <td>0</td>\n",
       "      <td>0.5</td>\n",
       "    </tr>\n",
       "    <tr>\n",
       "      <th>104</th>\n",
       "      <td>8</td>\n",
       "      <td>3</td>\n",
       "      <td>3.0</td>\n",
       "    </tr>\n",
       "    <tr>\n",
       "      <th>105</th>\n",
       "      <td>29</td>\n",
       "      <td>0</td>\n",
       "      <td>5.0</td>\n",
       "    </tr>\n",
       "    <tr>\n",
       "      <th>108</th>\n",
       "      <td>29</td>\n",
       "      <td>2</td>\n",
       "      <td>21.0</td>\n",
       "    </tr>\n",
       "    <tr>\n",
       "      <th>110</th>\n",
       "      <td>29</td>\n",
       "      <td>2</td>\n",
       "      <td>3.0</td>\n",
       "    </tr>\n",
       "    <tr>\n",
       "      <th>113</th>\n",
       "      <td>29</td>\n",
       "      <td>0</td>\n",
       "      <td>2.0</td>\n",
       "    </tr>\n",
       "    <tr>\n",
       "      <th>115</th>\n",
       "      <td>28</td>\n",
       "      <td>2</td>\n",
       "      <td>8.0</td>\n",
       "    </tr>\n",
       "    <tr>\n",
       "      <th>117</th>\n",
       "      <td>29</td>\n",
       "      <td>0</td>\n",
       "      <td>16.0</td>\n",
       "    </tr>\n",
       "  </tbody>\n",
       "</table>\n",
       "</div>"
      ]
     },
     "metadata": {},
     "execution_count": 26
    }
   ],
   "metadata": {}
  },
  {
   "cell_type": "code",
   "execution_count": 27,
   "source": [
    "y.head()"
   ],
   "outputs": [
    {
     "output_type": "execute_result",
     "data": {
      "text/plain": [
       "7      116000.0\n",
       "9       32315.0\n",
       "10      40070.0\n",
       "11      14268.0\n",
       "12      38916.0\n",
       "13      66000.0\n",
       "16      79000.0\n",
       "18      83400.0\n",
       "23      91883.0\n",
       "25      71093.0\n",
       "29      38778.0\n",
       "31      31764.0\n",
       "32      63564.0\n",
       "35      77556.0\n",
       "37      97288.0\n",
       "40     106000.0\n",
       "41     130000.0\n",
       "42     135000.0\n",
       "43      55893.0\n",
       "44      36753.0\n",
       "45      37834.0\n",
       "46      74970.0\n",
       "47     125000.0\n",
       "48      52000.0\n",
       "50     103615.0\n",
       "51      90482.0\n",
       "53     160000.0\n",
       "58      16488.0\n",
       "63      94359.0\n",
       "66     250000.0\n",
       "79      94500.0\n",
       "81     117000.0\n",
       "88     130000.0\n",
       "89      61476.0\n",
       "90      57292.0\n",
       "91      21620.0\n",
       "92      37816.0\n",
       "93      71850.0\n",
       "95      75631.0\n",
       "96      41568.0\n",
       "97      79413.0\n",
       "98      93000.0\n",
       "103     40000.0\n",
       "104     46044.0\n",
       "105    148000.0\n",
       "108    130000.0\n",
       "110     65000.0\n",
       "113     78800.0\n",
       "115    116333.0\n",
       "117    145000.0\n",
       "Name: Salary, dtype: float64"
      ]
     },
     "metadata": {},
     "execution_count": 27
    }
   ],
   "metadata": {}
  },
  {
   "cell_type": "code",
   "execution_count": 28,
   "source": [
    "# now we will split the data into training and testing data using train_test_split() method\r\n",
    "from sklearn.model_selection import train_test_split\r\n",
    "train_x, test_x, train_y, test_y = train_test_split(x, y, test_size = 0.2, random_state = 43)"
   ],
   "outputs": [],
   "metadata": {}
  },
  {
   "cell_type": "code",
   "execution_count": 29,
   "source": [
    "# since the data that we are going to predict is a continious data that is a float value which will be salary\r\n",
    "# for that we will need a regression model\r\n",
    "\r\n",
    "# first we will try the LinearRegressor\r\n",
    "from sklearn.linear_model import LinearRegression\r\n",
    "linearModel = LinearRegression()\r\n",
    "linearModel.fit(train_x,train_y.values)"
   ],
   "outputs": [
    {
     "output_type": "execute_result",
     "data": {
      "text/plain": [
       "LinearRegression()"
      ]
     },
     "metadata": {},
     "execution_count": 29
    }
   ],
   "metadata": {}
  },
  {
   "cell_type": "code",
   "execution_count": 30,
   "source": [
    "# predicted_salary contains the output generated by our model\r\n",
    "predicted_salary = linearModel.predict(test_x)\r\n",
    "predicted_salary"
   ],
   "outputs": [
    {
     "output_type": "execute_result",
     "data": {
      "text/plain": [
       "array([129560.88003169,  67333.37650539,  42278.43302262, ...,\n",
       "        69194.93653857, 143567.02949053,  64133.18589409])"
      ]
     },
     "metadata": {},
     "execution_count": 30
    }
   ],
   "metadata": {}
  },
  {
   "cell_type": "code",
   "execution_count": 31,
   "source": [
    "# will find the error in the output\r\n",
    "from sklearn.metrics import mean_squared_error, mean_absolute_error\r\n",
    "import numpy as np\r\n",
    "error = np.sqrt(mean_absolute_error(test_y,predicted_salary))\r\n",
    "# from the output it is visible that we have an error of $180\r\n",
    "# which is acceptable\r\n",
    "error"
   ],
   "outputs": [
    {
     "output_type": "execute_result",
     "data": {
      "text/plain": [
       "180.24212222928756"
      ]
     },
     "metadata": {},
     "execution_count": 31
    }
   ],
   "metadata": {}
  },
  {
   "cell_type": "code",
   "execution_count": 46,
   "source": [
    "# we will try another model that is Decision Tree Regressor\r\n",
    "# this model uses a decision tree and derives the output \r\n",
    "# according to the input values\r\n",
    "from sklearn.tree import DecisionTreeRegressor\r\n",
    "decisionTreeModel = DecisionTreeRegressor(random_state = 43)\r\n",
    "decisionTreeModel.fit(train_x,train_y)"
   ],
   "outputs": [
    {
     "output_type": "execute_result",
     "data": {
      "text/plain": [
       "DecisionTreeRegressor(random_state=43)"
      ]
     },
     "metadata": {},
     "execution_count": 46
    }
   ],
   "metadata": {}
  },
  {
   "cell_type": "code",
   "execution_count": 47,
   "source": [
    "tree_salary = decisionTreeModel.predict(test_x)\r\n",
    "tree_salary"
   ],
   "outputs": [
    {
     "output_type": "execute_result",
     "data": {
      "text/plain": [
       "array([ 82656.        ,  97437.87315634,  34849.725     , ...,\n",
       "        98801.8       , 149000.        ,  23506.47457627])"
      ]
     },
     "metadata": {},
     "execution_count": 47
    }
   ],
   "metadata": {}
  },
  {
   "cell_type": "code",
   "execution_count": 34,
   "source": [
    "# here also we got the same error value\r\n",
    "error = np.sqrt(mean_absolute_error(test_y,predicted_salary))\r\n",
    "error"
   ],
   "outputs": [
    {
     "output_type": "execute_result",
     "data": {
      "text/plain": [
       "180.24212222928756"
      ]
     },
     "metadata": {},
     "execution_count": 34
    }
   ],
   "metadata": {}
  },
  {
   "cell_type": "code",
   "execution_count": 35,
   "source": [
    "# finally we will try another regressor i.e Random forest Regressor\r\n",
    "# random forest uses multiple decision tree and compare their output\r\n",
    "# and return the one which occures the max number of times\r\n",
    "from sklearn.ensemble import RandomForestRegressor\r\n",
    "forestModel = RandomForestRegressor(max_depth=12, random_state=0)\r\n",
    "forestModel.fit(train_x,train_y)"
   ],
   "outputs": [
    {
     "output_type": "execute_result",
     "data": {
      "text/plain": [
       "RandomForestRegressor(max_depth=12, random_state=0)"
      ]
     },
     "metadata": {},
     "execution_count": 35
    }
   ],
   "metadata": {}
  },
  {
   "cell_type": "code",
   "execution_count": 36,
   "source": [
    "forestSalary = forestModel.predict(test_x)\r\n",
    "forestSalary"
   ],
   "outputs": [
    {
     "output_type": "execute_result",
     "data": {
      "text/plain": [
       "array([166058.43246674,  97550.49374177,  35351.66891777, ...,\n",
       "        79923.83807532, 145642.97026218,  23593.74333775])"
      ]
     },
     "metadata": {},
     "execution_count": 36
    }
   ],
   "metadata": {}
  },
  {
   "cell_type": "code",
   "execution_count": 37,
   "source": [
    "# similar to other two here also we got the same answer\r\n",
    "error = np.sqrt(mean_absolute_error(test_y,predicted_salary))\r\n",
    "error"
   ],
   "outputs": [
    {
     "output_type": "execute_result",
     "data": {
      "text/plain": [
       "180.24212222928756"
      ]
     },
     "metadata": {},
     "execution_count": 37
    }
   ],
   "metadata": {}
  },
  {
   "cell_type": "code",
   "execution_count": 38,
   "source": [
    "# incase if we want to improve our ML model \r\n",
    "# we can use GridSearchCV which tries multiple values for hyper parameters and returns the best suited\r\n",
    "from sklearn.model_selection import GridSearchCV\r\n",
    "\r\n",
    "depth = [None, 2,4,6,8,10,12]\r\n",
    "parameters = {'max_depth':depth}\r\n",
    "\r\n",
    "from sklearn.tree import DecisionTreeRegressor\r\n",
    "decisionTreeModel = DecisionTreeRegressor(random_state = 0)\r\n",
    "gs = GridSearchCV(decisionTreeModel, parameters, scoring='neg_mean_squared_error')\r\n",
    "gs.fit(train_x,train_y.values)"
   ],
   "outputs": [
    {
     "output_type": "execute_result",
     "data": {
      "text/plain": [
       "GridSearchCV(estimator=DecisionTreeRegressor(random_state=0),\n",
       "             param_grid={'max_depth': [None, 2, 4, 6, 8, 10, 12]},\n",
       "             scoring='neg_mean_squared_error')"
      ]
     },
     "metadata": {},
     "execution_count": 38
    }
   ],
   "metadata": {}
  },
  {
   "cell_type": "code",
   "execution_count": 39,
   "source": [
    "# here we got the max_depth of the tree 12 and random_state as 0\r\n",
    "# we can use these values and improve our ML model\r\n",
    "gsmodel = gs.best_estimator_\r\n",
    "gsmodel"
   ],
   "outputs": [
    {
     "output_type": "execute_result",
     "data": {
      "text/plain": [
       "DecisionTreeRegressor(max_depth=12, random_state=0)"
      ]
     },
     "metadata": {},
     "execution_count": 39
    }
   ],
   "metadata": {}
  },
  {
   "cell_type": "code",
   "execution_count": 40,
   "source": [
    "# sample value for trail\r\n",
    "inputArry = np.array([['United States','Master’s Degree', 15]])\r\n",
    "inputArry"
   ],
   "outputs": [
    {
     "output_type": "execute_result",
     "data": {
      "text/plain": [
       "array([['United States', 'Master’s Degree', '15']], dtype='<U15')"
      ]
     },
     "metadata": {},
     "execution_count": 40
    }
   ],
   "metadata": {}
  },
  {
   "cell_type": "code",
   "execution_count": 41,
   "source": [
    "# the encoders we created above will transform our array values \r\n",
    "# and return us\r\n",
    "inputArry[:,0] = countryEncoder.transform(inputArry[:,0])\r\n",
    "inputArry[:,1] = educationEncoder.transform(inputArry[:,1])\r\n",
    "inputArry = inputArry.astype(float)\r\n",
    "inputArry"
   ],
   "outputs": [
    {
     "output_type": "execute_result",
     "data": {
      "text/plain": [
       "array([[29.,  2., 15.]])"
      ]
     },
     "metadata": {},
     "execution_count": 41
    }
   ],
   "metadata": {}
  },
  {
   "cell_type": "code",
   "execution_count": 48,
   "source": [
    "# now here we are deploying our model using pickle\r\n",
    "import pickle\r\n",
    "modelDetails = {\"model\": decisionTreeModel, \"countryEncoder\":countryEncoder, \"educationEncoder\": educationEncoder}\r\n",
    "with open('DecisionTreeRegressor.pkl', 'wb') as modelFile:\r\n",
    "    pickle.dump(modelDetails, modelFile)\r\n",
    "\r\n",
    "# here we are simply testing the passed model and encoder\r\n",
    "tempRegressor = modelDetails[\"model\"]\r\n",
    "tempCountryEn = modelDetails[\"countryEncoder\"]\r\n",
    "tempEducationEn = modelDetails[\"educationEncoder\"]"
   ],
   "outputs": [],
   "metadata": {}
  },
  {
   "cell_type": "code",
   "execution_count": 49,
   "source": [
    "# the dump worked and we got our value\r\n",
    "predictedValue = tempRegressor.predict(inputArry)\r\n",
    "predictedValue"
   ],
   "outputs": [
    {
     "output_type": "execute_result",
     "data": {
      "text/plain": [
       "array([143130.22857143])"
      ]
     },
     "metadata": {},
     "execution_count": 49
    }
   ],
   "metadata": {}
  },
  {
   "cell_type": "code",
   "execution_count": null,
   "source": [
    "# now we will create the UI using streamlit library\r\n",
    "# for running the web Application enter the command in the cmd\r\n",
    "# ./> streamlit run Application.py\r\n",
    "\r\n",
    "\r\n",
    "############Thank you#################"
   ],
   "outputs": [],
   "metadata": {}
  }
 ],
 "metadata": {
  "kernelspec": {
   "display_name": "Python 3",
   "language": "python",
   "name": "python3"
  },
  "language_info": {
   "codemirror_mode": {
    "name": "ipython",
    "version": 3
   },
   "file_extension": ".py",
   "mimetype": "text/x-python",
   "name": "python",
   "nbconvert_exporter": "python",
   "pygments_lexer": "ipython3",
   "version": "3.8.5"
  },
  "varInspector": {
   "cols": {
    "lenName": 16,
    "lenType": 16,
    "lenVar": 40
   },
   "kernels_config": {
    "python": {
     "delete_cmd_postfix": "",
     "delete_cmd_prefix": "del ",
     "library": "var_list.py",
     "varRefreshCmd": "print(var_dic_list())"
    },
    "r": {
     "delete_cmd_postfix": ") ",
     "delete_cmd_prefix": "rm(",
     "library": "var_list.r",
     "varRefreshCmd": "cat(var_dic_list()) "
    }
   },
   "types_to_exclude": [
    "module",
    "function",
    "builtin_function_or_method",
    "instance",
    "_Feature"
   ],
   "window_display": false
  }
 },
 "nbformat": 4,
 "nbformat_minor": 2
}